{
 "cells": [
  {
   "cell_type": "markdown",
   "source": [
    "# <h1>Thực hiện Draw dữ liệu</h1>"
   ],
   "metadata": {
    "collapsed": false
   }
  },
  {
   "cell_type": "markdown",
   "source": [
    "Dữ liệu được lấy trực tiếp từ trên trang web Yahoo Finance và có thể được biểu diễn dữ liệu thông quan địa chỉ link: <a href=\"https://vn.tradingview.com/chart/Z5qAjj3e/?symbol=HOSE%3AFPT\" > Data </a> và sẽ lấy dữ liệu của 10 năm cổ phiếu của công ty cổ phần FPT (Việt Nam)"
   ],
   "metadata": {
    "collapsed": false
   }
  },
  {
   "cell_type": "markdown",
   "source": [
    "# <h3>Bước 1: Lấy dữ liệu trực tiếp từ link</h3>"
   ],
   "metadata": {
    "collapsed": false
   }
  },
  {
   "cell_type": "code",
   "execution_count": 1,
   "metadata": {
    "collapsed": true,
    "ExecuteTime": {
     "start_time": "2023-05-16T11:47:19.030396Z",
     "end_time": "2023-05-16T11:47:21.157710Z"
    }
   },
   "outputs": [
    {
     "name": "stdout",
     "output_type": "stream",
     "text": [
      "[*********************100%***********************]  1 of 1 completed\n"
     ]
    },
    {
     "data": {
      "text/plain": "                    Open          High           Low         Close   \nDate                                                                 \n2012-05-16  20749.400391  20791.000000  20500.000000  20500.000000  \\\n2012-05-17  20583.099609  20791.000000  20583.099609  20707.900391   \n2012-05-18  20707.900391  20707.900391  19959.400391  20167.300781   \n2012-05-21  20791.000000  20998.900391  20375.199219  20998.900391   \n2012-05-22  21206.800781  21206.800781  20666.300781  20707.900391   \n...                  ...           ...           ...           ...   \n2022-02-24  93000.000000  93500.000000  90000.000000  92000.000000   \n2022-02-25  92400.000000  93400.000000  92100.000000  92300.000000   \n2022-02-28  92300.000000  93500.000000  92300.000000  93300.000000   \n2022-03-01  94000.000000  94000.000000  92500.000000  93400.000000   \n2022-03-02  93000.000000  93400.000000  92700.000000  93100.000000   \n\n               Adj Close   Volume  \nDate                               \n2012-05-16  20500.000000   265932  \n2012-05-17  20707.900391   385334  \n2012-05-18  20167.300781   635129  \n2012-05-21  20998.900391   402866  \n2012-05-22  20707.900391   215285  \n...                  ...      ...  \n2022-02-24  92000.000000  1349600  \n2022-02-25  92300.000000  1059900  \n2022-02-28  93300.000000  1504600  \n2022-03-01  93400.000000  1101900  \n2022-03-02  93100.000000  1088900  \n\n[2456 rows x 6 columns]",
      "text/html": "<div>\n<style scoped>\n    .dataframe tbody tr th:only-of-type {\n        vertical-align: middle;\n    }\n\n    .dataframe tbody tr th {\n        vertical-align: top;\n    }\n\n    .dataframe thead th {\n        text-align: right;\n    }\n</style>\n<table border=\"1\" class=\"dataframe\">\n  <thead>\n    <tr style=\"text-align: right;\">\n      <th></th>\n      <th>Open</th>\n      <th>High</th>\n      <th>Low</th>\n      <th>Close</th>\n      <th>Adj Close</th>\n      <th>Volume</th>\n    </tr>\n    <tr>\n      <th>Date</th>\n      <th></th>\n      <th></th>\n      <th></th>\n      <th></th>\n      <th></th>\n      <th></th>\n    </tr>\n  </thead>\n  <tbody>\n    <tr>\n      <th>2012-05-16</th>\n      <td>20749.400391</td>\n      <td>20791.000000</td>\n      <td>20500.000000</td>\n      <td>20500.000000</td>\n      <td>20500.000000</td>\n      <td>265932</td>\n    </tr>\n    <tr>\n      <th>2012-05-17</th>\n      <td>20583.099609</td>\n      <td>20791.000000</td>\n      <td>20583.099609</td>\n      <td>20707.900391</td>\n      <td>20707.900391</td>\n      <td>385334</td>\n    </tr>\n    <tr>\n      <th>2012-05-18</th>\n      <td>20707.900391</td>\n      <td>20707.900391</td>\n      <td>19959.400391</td>\n      <td>20167.300781</td>\n      <td>20167.300781</td>\n      <td>635129</td>\n    </tr>\n    <tr>\n      <th>2012-05-21</th>\n      <td>20791.000000</td>\n      <td>20998.900391</td>\n      <td>20375.199219</td>\n      <td>20998.900391</td>\n      <td>20998.900391</td>\n      <td>402866</td>\n    </tr>\n    <tr>\n      <th>2012-05-22</th>\n      <td>21206.800781</td>\n      <td>21206.800781</td>\n      <td>20666.300781</td>\n      <td>20707.900391</td>\n      <td>20707.900391</td>\n      <td>215285</td>\n    </tr>\n    <tr>\n      <th>...</th>\n      <td>...</td>\n      <td>...</td>\n      <td>...</td>\n      <td>...</td>\n      <td>...</td>\n      <td>...</td>\n    </tr>\n    <tr>\n      <th>2022-02-24</th>\n      <td>93000.000000</td>\n      <td>93500.000000</td>\n      <td>90000.000000</td>\n      <td>92000.000000</td>\n      <td>92000.000000</td>\n      <td>1349600</td>\n    </tr>\n    <tr>\n      <th>2022-02-25</th>\n      <td>92400.000000</td>\n      <td>93400.000000</td>\n      <td>92100.000000</td>\n      <td>92300.000000</td>\n      <td>92300.000000</td>\n      <td>1059900</td>\n    </tr>\n    <tr>\n      <th>2022-02-28</th>\n      <td>92300.000000</td>\n      <td>93500.000000</td>\n      <td>92300.000000</td>\n      <td>93300.000000</td>\n      <td>93300.000000</td>\n      <td>1504600</td>\n    </tr>\n    <tr>\n      <th>2022-03-01</th>\n      <td>94000.000000</td>\n      <td>94000.000000</td>\n      <td>92500.000000</td>\n      <td>93400.000000</td>\n      <td>93400.000000</td>\n      <td>1101900</td>\n    </tr>\n    <tr>\n      <th>2022-03-02</th>\n      <td>93000.000000</td>\n      <td>93400.000000</td>\n      <td>92700.000000</td>\n      <td>93100.000000</td>\n      <td>93100.000000</td>\n      <td>1088900</td>\n    </tr>\n  </tbody>\n</table>\n<p>2456 rows × 6 columns</p>\n</div>"
     },
     "execution_count": 1,
     "metadata": {},
     "output_type": "execute_result"
    }
   ],
   "source": [
    "import yfinance as yf # Cài đặt thư viện yfinance cho phép lấy dữ liệu tài chính từ Yahoo Finance\n",
    "FPT_data = yf.download(\"FPT\", period=\"11y\", interval=\"1d\")\n",
    "FPT_data.to_csv(\"Data.csv\")\n",
    "FPT_data"
   ]
  },
  {
   "cell_type": "markdown",
   "source": [
    "Sau khi đã có được dữ liệu. Dữ liệu này bao gồm các thuộc tính:\n",
    "1. Date: (Thời gian) mà dữ liệu được tạo ra (mm/dd/yyy)\n",
    "2. Open: Là một thuật ngữ dùng để chỉ giá mở cửa của một cổ phiếu.\n",
    "3. High: Tương tự như Open, dùng để chỉ giá cao nhất trong một cửa hàng cổ phiếu hoặc trong một phiên giao dịch.\n",
    "4. Low: Ngược lại với High, đây là thuật ngữ dùng để chỉ giá thấp nhất.\n",
    "5. Close: Là thuật ngữ dùng để chỉ giá đóng cửa (closing price) của một cửa hàng cổ phiếu hoặc trong một phiên giao dịch.\n",
    "6. Adj Close: Là thuật ngữ dùng để chỉ giá đóng cửa được điều chỉnh (adjusted closing price).\n",
    "7. Volume: Là thuật ngữ dùng để chỉ khối lượng giao dịch (traded volume)."
   ],
   "metadata": {
    "collapsed": false
   }
  },
  {
   "cell_type": "code",
   "execution_count": 3,
   "outputs": [
    {
     "name": "stdout",
     "output_type": "stream",
     "text": [
      "<class 'pandas.core.frame.DataFrame'>\n",
      "RangeIndex: 2456 entries, 0 to 2455\n",
      "Data columns (total 7 columns):\n",
      " #   Column     Non-Null Count  Dtype         \n",
      "---  ------     --------------  -----         \n",
      " 0   Date       2456 non-null   datetime64[ns]\n",
      " 1   Open       2456 non-null   float64       \n",
      " 2   High       2456 non-null   float64       \n",
      " 3   Low        2456 non-null   float64       \n",
      " 4   Close      2456 non-null   float64       \n",
      " 5   Adj Close  2456 non-null   float64       \n",
      " 6   Volume     2456 non-null   int64         \n",
      "dtypes: datetime64[ns](1), float64(5), int64(1)\n",
      "memory usage: 134.4 KB\n"
     ]
    }
   ],
   "source": [
    "import pandas as pd\n",
    "data = pd.read_csv('Data.csv')\n",
    "data['Date'] = pd.to_datetime(data.Date, format='%Y-%m-%d')\n",
    "data.info()"
   ],
   "metadata": {
    "collapsed": false,
    "ExecuteTime": {
     "start_time": "2023-05-16T12:11:14.665611Z",
     "end_time": "2023-05-16T12:11:14.784639Z"
    }
   }
  }
 ],
 "metadata": {
  "kernelspec": {
   "display_name": "Python 3",
   "language": "python",
   "name": "python3"
  },
  "language_info": {
   "codemirror_mode": {
    "name": "ipython",
    "version": 2
   },
   "file_extension": ".py",
   "mimetype": "text/x-python",
   "name": "python",
   "nbconvert_exporter": "python",
   "pygments_lexer": "ipython2",
   "version": "2.7.6"
  }
 },
 "nbformat": 4,
 "nbformat_minor": 0
}
