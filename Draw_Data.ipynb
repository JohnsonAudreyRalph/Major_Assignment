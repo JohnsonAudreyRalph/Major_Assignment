{
 "cells": [
  {
   "cell_type": "markdown",
   "source": [
    "# <h1>Thực hiện Draw dữ liệu</h1>"
   ],
   "metadata": {
    "collapsed": false
   }
  },
  {
   "cell_type": "markdown",
   "source": [
    "Dữ liệu được lấy trực tiếp từ trên trang web Yahoo Finance và có thể được biểu diễn dữ liệu thông quan địa chỉ link: <a href=\"https://vn.tradingview.com/chart/Z5qAjj3e/?symbol=HOSE%3AFPT\" > Data </a> và sẽ lấy dữ liệu của 10 năm cổ phiếu của công ty cổ phần FPT (Việt Nam)"
   ],
   "metadata": {
    "collapsed": false
   }
  },
  {
   "cell_type": "code",
   "execution_count": 1,
   "outputs": [],
   "source": [
    "import time\n",
    "from datetime import datetime\n",
    "import urllib.request\n",
    "import pandas as pd"
   ],
   "metadata": {
    "collapsed": false,
    "ExecuteTime": {
     "start_time": "2023-05-29T08:49:53.517396Z",
     "end_time": "2023-05-29T08:49:53.538626Z"
    }
   }
  },
  {
   "cell_type": "code",
   "execution_count": 2,
   "outputs": [],
   "source": [
    "def DATETIME_STAMP(dates):\n",
    "    time_1 = dates.timetuple()\n",
    "    time_2 = round(time.mktime(time_1))\n",
    "    return time_2"
   ],
   "metadata": {
    "collapsed": false,
    "ExecuteTime": {
     "start_time": "2023-05-29T08:49:53.533085Z",
     "end_time": "2023-05-29T08:49:53.549544Z"
    }
   }
  },
  {
   "cell_type": "code",
   "execution_count": 3,
   "outputs": [
    {
     "name": "stdout",
     "output_type": "stream",
     "text": [
      "https://query1.finance.yahoo.com/v7/finance/download/NFLX?period1=1072890000&period2=1546275600&interval=1d&events=history&includeAdjustedClose=true\n"
     ]
    }
   ],
   "source": [
    "star_Time = DATETIME_STAMP(datetime(2004, 1, 1))\n",
    "end_Time = DATETIME_STAMP(datetime(2019,1,1))\n",
    "url = 'https://query1.finance.yahoo.com/v7/finance/download/NFLX?period1='+str(star_Time)+'&period2='+str(end_Time)+'&interval=1d&events=history&includeAdjustedClose=true'\n",
    "print(url)"
   ],
   "metadata": {
    "collapsed": false,
    "ExecuteTime": {
     "start_time": "2023-05-29T08:49:53.549544Z",
     "end_time": "2023-05-29T08:49:53.592165Z"
    }
   }
  },
  {
   "cell_type": "code",
   "execution_count": 4,
   "outputs": [
    {
     "name": "stdout",
     "output_type": "stream",
     "text": [
      "Tệp đã được tải xuống thành công.\n"
     ]
    }
   ],
   "source": [
    "filename = 'Data.csv'  # Tên tệp để lưu trữ dữ liệu tải xuống\n",
    "try:\n",
    "    urllib.request.urlretrieve(url, filename)\n",
    "    print(\"Tệp đã được tải xuống thành công.\")\n",
    "except urllib.error.URLError as e:\n",
    "    print(\"Lỗi khi tải xuống tệp:\", e)"
   ],
   "metadata": {
    "collapsed": false,
    "ExecuteTime": {
     "start_time": "2023-05-29T08:49:53.564908Z",
     "end_time": "2023-05-29T08:49:54.011350Z"
    }
   }
  },
  {
   "cell_type": "code",
   "execution_count": 5,
   "outputs": [],
   "source": [
    "data = pd.read_csv('Data.csv')\n",
    "data['Date'] = pd.to_datetime(data.Date, format='%Y-%m-%d')"
   ],
   "metadata": {
    "collapsed": false,
    "ExecuteTime": {
     "start_time": "2023-05-29T08:49:54.013807Z",
     "end_time": "2023-05-29T08:49:54.067229Z"
    }
   }
  },
  {
   "cell_type": "code",
   "execution_count": 6,
   "outputs": [
    {
     "name": "stdout",
     "output_type": "stream",
     "text": [
      "Số lượng dữ liệu: 3776x7\n"
     ]
    }
   ],
   "source": [
    "print(f\"Số lượng dữ liệu: {data.shape[0]}x{data.shape[1]}\")"
   ],
   "metadata": {
    "collapsed": false,
    "ExecuteTime": {
     "start_time": "2023-05-29T08:49:54.059635Z",
     "end_time": "2023-05-29T08:49:54.075096Z"
    }
   }
  },
  {
   "cell_type": "code",
   "execution_count": 7,
   "outputs": [
    {
     "data": {
      "text/plain": "        Date      Open      High       Low     Close  Adj Close    Volume\n0 2003-12-31  4.045714  4.091429  3.880714  3.906429   3.906429  16801400\n1 2004-01-02  4.107143  4.127857  3.842143  3.916429   3.916429  50230600\n2 2004-01-05  3.892857  4.061429  3.875000  3.992857   3.992857  25207000\n3 2004-01-06  3.946429  4.339286  3.937143  4.257857   4.257857  52633000\n4 2004-01-07  4.307143  4.470000  4.249286  4.445714   4.445714  68432000",
      "text/html": "<div>\n<style scoped>\n    .dataframe tbody tr th:only-of-type {\n        vertical-align: middle;\n    }\n\n    .dataframe tbody tr th {\n        vertical-align: top;\n    }\n\n    .dataframe thead th {\n        text-align: right;\n    }\n</style>\n<table border=\"1\" class=\"dataframe\">\n  <thead>\n    <tr style=\"text-align: right;\">\n      <th></th>\n      <th>Date</th>\n      <th>Open</th>\n      <th>High</th>\n      <th>Low</th>\n      <th>Close</th>\n      <th>Adj Close</th>\n      <th>Volume</th>\n    </tr>\n  </thead>\n  <tbody>\n    <tr>\n      <th>0</th>\n      <td>2003-12-31</td>\n      <td>4.045714</td>\n      <td>4.091429</td>\n      <td>3.880714</td>\n      <td>3.906429</td>\n      <td>3.906429</td>\n      <td>16801400</td>\n    </tr>\n    <tr>\n      <th>1</th>\n      <td>2004-01-02</td>\n      <td>4.107143</td>\n      <td>4.127857</td>\n      <td>3.842143</td>\n      <td>3.916429</td>\n      <td>3.916429</td>\n      <td>50230600</td>\n    </tr>\n    <tr>\n      <th>2</th>\n      <td>2004-01-05</td>\n      <td>3.892857</td>\n      <td>4.061429</td>\n      <td>3.875000</td>\n      <td>3.992857</td>\n      <td>3.992857</td>\n      <td>25207000</td>\n    </tr>\n    <tr>\n      <th>3</th>\n      <td>2004-01-06</td>\n      <td>3.946429</td>\n      <td>4.339286</td>\n      <td>3.937143</td>\n      <td>4.257857</td>\n      <td>4.257857</td>\n      <td>52633000</td>\n    </tr>\n    <tr>\n      <th>4</th>\n      <td>2004-01-07</td>\n      <td>4.307143</td>\n      <td>4.470000</td>\n      <td>4.249286</td>\n      <td>4.445714</td>\n      <td>4.445714</td>\n      <td>68432000</td>\n    </tr>\n  </tbody>\n</table>\n</div>"
     },
     "execution_count": 7,
     "metadata": {},
     "output_type": "execute_result"
    }
   ],
   "source": [
    "data.head()"
   ],
   "metadata": {
    "collapsed": false,
    "ExecuteTime": {
     "start_time": "2023-05-29T08:49:54.076141Z",
     "end_time": "2023-05-29T08:49:54.166258Z"
    }
   }
  },
  {
   "cell_type": "markdown",
   "source": [
    "Sau khi đã có được dữ liệu. Dữ liệu này bao gồm các thuộc tính:\n",
    "1. Date: (Thời gian) mà dữ liệu được tạo ra (mm/dd/yyy)\n",
    "2. Open: Là một thuật ngữ dùng để chỉ giá mở cửa của một cổ phiếu.\n",
    "3. High: Tương tự như Open, dùng để chỉ giá cao nhất trong một cửa hàng cổ phiếu hoặc trong một phiên giao dịch.\n",
    "4. Low: Ngược lại với High, đây là thuật ngữ dùng để chỉ giá thấp nhất.\n",
    "5. Close: Là thuật ngữ dùng để chỉ giá đóng cửa (closing price) của một cửa hàng cổ phiếu hoặc trong một phiên giao dịch.\n",
    "6. Adj Close: Là thuật ngữ dùng để chỉ giá đóng cửa được điều chỉnh (adjusted closing price).\n",
    "7. Volume: Là thuật ngữ dùng để chỉ khối lượng giao dịch (traded volume)."
   ],
   "metadata": {
    "collapsed": false
   }
  },
  {
   "cell_type": "code",
   "execution_count": 8,
   "outputs": [
    {
     "name": "stdout",
     "output_type": "stream",
     "text": [
      "<class 'pandas.core.frame.DataFrame'>\n",
      "RangeIndex: 3776 entries, 0 to 3775\n",
      "Data columns (total 7 columns):\n",
      " #   Column     Non-Null Count  Dtype         \n",
      "---  ------     --------------  -----         \n",
      " 0   Date       3776 non-null   datetime64[ns]\n",
      " 1   Open       3776 non-null   float64       \n",
      " 2   High       3776 non-null   float64       \n",
      " 3   Low        3776 non-null   float64       \n",
      " 4   Close      3776 non-null   float64       \n",
      " 5   Adj Close  3776 non-null   float64       \n",
      " 6   Volume     3776 non-null   int64         \n",
      "dtypes: datetime64[ns](1), float64(5), int64(1)\n",
      "memory usage: 206.6 KB\n"
     ]
    }
   ],
   "source": [
    "data.info()"
   ],
   "metadata": {
    "collapsed": false,
    "ExecuteTime": {
     "start_time": "2023-05-29T08:49:54.107183Z",
     "end_time": "2023-05-29T08:49:54.180296Z"
    }
   }
  }
 ],
 "metadata": {
  "kernelspec": {
   "display_name": "Python 3",
   "language": "python",
   "name": "python3"
  },
  "language_info": {
   "codemirror_mode": {
    "name": "ipython",
    "version": 2
   },
   "file_extension": ".py",
   "mimetype": "text/x-python",
   "name": "python",
   "nbconvert_exporter": "python",
   "pygments_lexer": "ipython2",
   "version": "2.7.6"
  }
 },
 "nbformat": 4,
 "nbformat_minor": 0
}
