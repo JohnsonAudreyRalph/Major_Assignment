{
 "cells": [
  {
   "cell_type": "code",
   "execution_count": 2,
   "metadata": {
    "collapsed": true,
    "ExecuteTime": {
     "start_time": "2023-05-29T11:42:56.525608Z",
     "end_time": "2023-05-29T11:43:31.770308Z"
    }
   },
   "outputs": [
    {
     "name": "stderr",
     "output_type": "stream",
     "text": [
      "D:\\Tu_Hoc_Lap_Trinh\\Python\\Major_Assignment\\venv\\lib\\site-packages\\sklearn\\base.py:439: UserWarning: X does not have valid feature names, but MinMaxScaler was fitted with feature names\n",
      "  warnings.warn(\n"
     ]
    },
    {
     "name": "stdout",
     "output_type": "stream",
     "text": [
      "1/1 [==============================] - 0s 169ms/step\n",
      "Kết quả giá thấp nhất (Dự đoán) cho ngày mai: [[26.659029]]\n"
     ]
    }
   ],
   "source": [
    "import pandas as pd\n",
    "import numpy as np\n",
    "from keras.models import load_model\n",
    "import pickle\n",
    "features_Low_S = [\"Open\", \"High\", \"Close\", \"Volume\"]\n",
    "loaded_model_Low = load_model('Model/Model_Low.h5')\n",
    "with open('Model/scaler_Low.pkl', 'rb') as file:\n",
    "    scaler_Low_S = pickle.load(file)\n",
    "open_value = float(input(\"Hãy nhập giá mở cửa: \"))\n",
    "high_value = float(input(\"Hãy nhập giá cao nhất: \"))\n",
    "close_value = float(input(\"Hãy nhập giá đóng cửa: \"))\n",
    "volume_value = float(input(\"Hãy nhập khối lượng giao dịch: \"))\n",
    "new_features_Low = scaler_Low_S.transform([[open_value, high_value, close_value, volume_value]])\n",
    "new_features_Low = pd.DataFrame(columns=features_Low_S, data=new_features_Low)\n",
    "new_data_Low = np.array(new_features_Low)\n",
    "new_data_Low = new_data_Low.reshape(new_data_Low.shape[0], 1, new_data_Low.shape[1])\n",
    "predicted_adj_Low = loaded_model_Low.predict(new_data_Low)\n",
    "print(\"Kết quả giá thấp nhất (Dự đoán) cho ngày mai:\", predicted_adj_Low)"
   ]
  }
 ],
 "metadata": {
  "kernelspec": {
   "display_name": "Python 3",
   "language": "python",
   "name": "python3"
  },
  "language_info": {
   "codemirror_mode": {
    "name": "ipython",
    "version": 2
   },
   "file_extension": ".py",
   "mimetype": "text/x-python",
   "name": "python",
   "nbconvert_exporter": "python",
   "pygments_lexer": "ipython2",
   "version": "2.7.6"
  }
 },
 "nbformat": 4,
 "nbformat_minor": 0
}
