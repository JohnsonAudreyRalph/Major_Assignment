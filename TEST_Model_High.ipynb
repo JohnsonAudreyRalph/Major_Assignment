{
 "cells": [
  {
   "cell_type": "code",
   "execution_count": 1,
   "metadata": {
    "collapsed": true,
    "ExecuteTime": {
     "start_time": "2023-05-29T11:27:41.726281Z",
     "end_time": "2023-05-29T11:28:28.674860Z"
    }
   },
   "outputs": [
    {
     "name": "stderr",
     "output_type": "stream",
     "text": [
      "D:\\Tu_Hoc_Lap_Trinh\\Python\\Major_Assignment\\venv\\lib\\site-packages\\sklearn\\base.py:439: UserWarning: X does not have valid feature names, but MinMaxScaler was fitted with feature names\n",
      "  warnings.warn(\n"
     ]
    },
    {
     "name": "stdout",
     "output_type": "stream",
     "text": [
      "1/1 [==============================] - 0s 201ms/step\n",
      "Kết quả (dự đoán) giá cao nhất:  [[189.38663]]\n"
     ]
    }
   ],
   "source": [
    "import pandas as pd\n",
    "import numpy as np\n",
    "from keras.models import load_model\n",
    "import pickle\n",
    "features_High_S = [\"Open\", \"Low\", \"Close\", \"Volume\"]\n",
    "loaded_model_High = load_model('Model/Model_High.h5')\n",
    "with open('Model/scaler_High.pkl', 'rb') as file:\n",
    "    scaler_High_S = pickle.load(file)\n",
    "open_value = float(input(\"Nhập giá mở cửa: \"))\n",
    "low_value = float(input(\"Nhập giá thấp nhất: \"))\n",
    "close_value = float(input(\"Nhập giá đóng cửa: \"))\n",
    "volume_value = float(input(\"Nhập khối lượng giao dịch: \"))\n",
    "new_features_High = scaler_High_S.transform([[open_value, low_value, close_value, volume_value]])\n",
    "new_features_High = pd.DataFrame(columns=features_High_S, data=new_features_High)\n",
    "new_data_High = np.array(new_features_High)\n",
    "new_data_High = new_data_High.reshape(new_data_High.shape[0], 1, new_data_High.shape[1])\n",
    "predicted_adj_High = loaded_model_High.predict(new_data_High)\n",
    "print(\"Kết quả (dự đoán) giá cao nhất: \", predicted_adj_High)"
   ]
  }
 ],
 "metadata": {
  "kernelspec": {
   "display_name": "Python 3",
   "language": "python",
   "name": "python3"
  },
  "language_info": {
   "codemirror_mode": {
    "name": "ipython",
    "version": 2
   },
   "file_extension": ".py",
   "mimetype": "text/x-python",
   "name": "python",
   "nbconvert_exporter": "python",
   "pygments_lexer": "ipython2",
   "version": "2.7.6"
  }
 },
 "nbformat": 4,
 "nbformat_minor": 0
}
