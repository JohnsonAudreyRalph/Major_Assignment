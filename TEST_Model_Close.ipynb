{
 "cells": [
  {
   "cell_type": "code",
   "execution_count": 2,
   "outputs": [
    {
     "name": "stderr",
     "output_type": "stream",
     "text": [
      "D:\\Tu_Hoc_Lap_Trinh\\Python\\Major_Assignment\\venv\\lib\\site-packages\\sklearn\\base.py:439: UserWarning: X does not have valid feature names, but MinMaxScaler was fitted with feature names\n",
      "  warnings.warn(\n"
     ]
    },
    {
     "name": "stdout",
     "output_type": "stream",
     "text": [
      "1/1 [==============================] - 0s 323ms/step\n",
      "Kết quả giá đóng cửa (Dự đoán) cho ngày mai: 258.7579\n"
     ]
    }
   ],
   "source": [
    "import pandas as pd\n",
    "import numpy as np\n",
    "from keras.models import load_model\n",
    "import pickle\n",
    "loaded_model_Close = load_model('Model/Model_Close.h5')\n",
    "features_Close_S = [\"Open\", \"High\", \"Low\", \"Volume\"]\n",
    "with open('Model/scaler_Close.pkl', 'rb') as file:\n",
    "    scaler_Close_S = pickle.load(file)\n",
    "open_value = float(input(\"Hãy nhập giá mở cửa: \"))\n",
    "high_value = float(input(\"Hãy nhập giá cao nhất: \"))\n",
    "low_value = float(input(\"Hãy nhập giá thấp nhất: \"))\n",
    "volume_value = float(input(\"Hãy nhập khối lượng giao dịch: \"))\n",
    "new_features_Close = scaler_Close_S.transform([[open_value, high_value, low_value, volume_value]])\n",
    "new_features_Close = pd.DataFrame(columns=features_Close_S, data=new_features_Close)\n",
    "new_data_Close = np.array(new_features_Close)\n",
    "new_data_Close = new_data_Close.reshape(new_data_Close.shape[0], 1, new_data_Close.shape[1])\n",
    "predicted_adj_close = loaded_model_Close.predict(new_data_Close)\n",
    "predicted_adj_close = predicted_adj_close[0][0]\n",
    "print(\"Kết quả giá đóng cửa (Dự đoán) cho ngày mai:\", predicted_adj_close)"
   ],
   "metadata": {
    "collapsed": false,
    "ExecuteTime": {
     "start_time": "2023-05-29T12:49:19.680045Z",
     "end_time": "2023-05-29T12:49:41.501207Z"
    }
   }
  }
 ],
 "metadata": {
  "kernelspec": {
   "display_name": "Python 3",
   "language": "python",
   "name": "python3"
  },
  "language_info": {
   "codemirror_mode": {
    "name": "ipython",
    "version": 2
   },
   "file_extension": ".py",
   "mimetype": "text/x-python",
   "name": "python",
   "nbconvert_exporter": "python",
   "pygments_lexer": "ipython2",
   "version": "2.7.6"
  }
 },
 "nbformat": 4,
 "nbformat_minor": 0
}
