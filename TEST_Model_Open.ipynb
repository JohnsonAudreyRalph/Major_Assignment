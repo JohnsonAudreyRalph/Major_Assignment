{
 "cells": [
  {
   "cell_type": "code",
   "execution_count": 1,
   "outputs": [
    {
     "name": "stderr",
     "output_type": "stream",
     "text": [
      "D:\\Tu_Hoc_Lap_Trinh\\Python\\Major_Assignment\\venv\\lib\\site-packages\\sklearn\\base.py:439: UserWarning: X does not have valid feature names, but MinMaxScaler was fitted with feature names\n",
      "  warnings.warn(\n"
     ]
    },
    {
     "name": "stdout",
     "output_type": "stream",
     "text": [
      "1/1 [==============================] - 0s 217ms/step\n",
      "Kết quả (dự đoán) giá mở cửa:  [[188.39505]]\n"
     ]
    }
   ],
   "source": [
    "import pandas as pd\n",
    "import numpy as np\n",
    "from keras.models import load_model\n",
    "import pickle\n",
    "features_Open_S = [\"High\", \"Low\", \"Close\", \"Volume\"]\n",
    "loaded_model_Open = load_model('Model/Model_Open.h5')\n",
    "with open('Model/scaler_Open.pkl', 'rb') as file:\n",
    "    scaler_Open_S = pickle.load(file)\n",
    "high_value = float(input(\"Nhập giá cao nhất: \"))\n",
    "low_value = float(input(\"Nhập giá thấp nhất: \"))\n",
    "close_value = float(input(\"Nhập giá đóng cửa: \"))\n",
    "volume_value = float(input(\"Nhập khối lượng giao dịch: \"))\n",
    "new_features_Open = scaler_Open_S.transform([[high_value, low_value, close_value, volume_value]])\n",
    "new_features_Open = pd.DataFrame(columns=features_Open_S, data=new_features_Open)\n",
    "new_data_Open = np.array(new_features_Open)\n",
    "new_data_Open = new_data_Open.reshape(new_data_Open.shape[0], 1, new_data_Open.shape[1])\n",
    "predicted_adj_Open = loaded_model_Open.predict(new_data_Open)\n",
    "print(\"Kết quả (dự đoán) giá mở cửa: \", predicted_adj_Open)"
   ],
   "metadata": {
    "collapsed": false,
    "ExecuteTime": {
     "start_time": "2023-05-29T11:25:01.345587Z",
     "end_time": "2023-05-29T11:25:37.973081Z"
    }
   }
  }
 ],
 "metadata": {
  "kernelspec": {
   "display_name": "Python 3",
   "language": "python",
   "name": "python3"
  },
  "language_info": {
   "codemirror_mode": {
    "name": "ipython",
    "version": 2
   },
   "file_extension": ".py",
   "mimetype": "text/x-python",
   "name": "python",
   "nbconvert_exporter": "python",
   "pygments_lexer": "ipython2",
   "version": "2.7.6"
  }
 },
 "nbformat": 4,
 "nbformat_minor": 0
}
